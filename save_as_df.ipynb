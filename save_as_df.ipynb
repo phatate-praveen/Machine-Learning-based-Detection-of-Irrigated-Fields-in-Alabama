{
 "cells": [
  {
   "cell_type": "code",
   "execution_count": 1,
   "metadata": {},
   "outputs": [
    {
     "name": "stderr",
     "output_type": "stream",
     "text": [
      "2022-09-06 02:59:06.959809: W tensorflow/stream_executor/platform/default/dso_loader.cc:64] Could not load dynamic library 'libcudart.so.11.0'; dlerror: libcudart.so.11.0: cannot open shared object file: No such file or directory\n",
      "2022-09-06 02:59:06.959842: I tensorflow/stream_executor/cuda/cudart_stub.cc:29] Ignore above cudart dlerror if you do not have a GPU set up on your machine.\n"
     ]
    }
   ],
   "source": [
    "# from PIL import Image\n",
    "from osgeo import gdal,ogr, osr\n",
    "import numpy as np\n",
    "import sklearn\n",
    "from sklearn.preprocessing import StandardScaler\n",
    "import tensorflow as tf\n",
    "import os\n",
    "\n",
    "from matplotlib import pyplot as plt\n",
    "\n",
    "from sklearn.preprocessing import PowerTransformer,MinMaxScaler\n",
    "from sklearn.preprocessing import QuantileTransformer\n",
    "from sklearn.pipeline import Pipeline\n",
    "from sklearn.model_selection import train_test_split\n",
    "\n",
    "import imblearn\n",
    "from imblearn.over_sampling import SMOTE, ADASYN\n",
    "from imblearn.under_sampling import RandomUnderSampler, NearMiss\n",
    "from sklearn.model_selection import cross_val_score\n",
    "from sklearn.model_selection import RepeatedStratifiedKFold\n",
    "from sklearn.ensemble import RandomForestClassifier\n",
    "# from xgboost import XGBClassifier\n",
    "from numpy import mean\n",
    "from numpy import std\n",
    "from sklearn import metrics\n",
    "from sklearn.metrics import classification_report, confusion_matrix, accuracy_score, ConfusionMatrixDisplay\n",
    "import pandas as pd\n",
    "import re\n",
    "import pickle\n",
    "from os import listdir\n",
    "from os.path import isfile, join"
   ]
  },
  {
   "cell_type": "code",
   "execution_count": 9,
   "metadata": {},
   "outputs": [
    {
     "name": "stdout",
     "output_type": "stream",
     "text": [
      "33\n"
     ]
    }
   ],
   "source": [
    "# Intrested bands\n",
    "BANDS = ['BLUE', 'GREEN', 'RED', 'NIR', 'SWIR1', 'SWIR2', 'longitude', 'latitude', 'constant', \n",
    "         'NDVI', 'EVI', 'NDVI_1', 'EVI_1', 'NDVI_2', 'EVI_2', 'NDVI_3', 'EVI_3', 'NDVI_4', 'EVI_4', \n",
    "         'NDVI_5', 'EVI_5', 'NDVI_6', 'EVI_6', 'NDVI_7', 'EVI_7', 'NDVI_8', 'EVI_8', 'NDVI_9', 'EVI_9', \n",
    "         'NDVI_10', 'EVI_10', 'cultivated', 'label']\n",
    "print(len(BANDS))"
   ]
  },
  {
   "cell_type": "code",
   "execution_count": 10,
   "metadata": {},
   "outputs": [],
   "source": [
    "def sorted_alphanumeric(data):\n",
    "    convert = lambda text: int(text) if text.isdigit() else text.lower()\n",
    "    alphanum_key = lambda key: [ convert(c) for c in re.split('([0-9]+)', key) ] \n",
    "    return sorted(data, key=alphanum_key)"
   ]
  },
  {
   "cell_type": "code",
   "execution_count": 11,
   "metadata": {},
   "outputs": [
    {
     "name": "stdout",
     "output_type": "stream",
     "text": [
      "['complete_2013-0000017664-0000000000.tif', 'complete_2013-0000011776-0000005888-013.tif', 'complete_2013-0000017664-0000005888.tif', 'complete_2013-0000000000-0000000000-005.tif', 'complete_2013-0000005888-0000000000-007.tif', 'complete_2013-0000005888-0000011776.tif', 'complete_2013-0000000000-0000005888-017.tif', 'complete_2013-0000000000-0000011776.tif', 'complete_2013-0000011776-0000000000-016.tif', 'complete_2013-0000005888-0000005888-001.tif', 'complete_2013-0000017664-0000011776.tif', 'complete_2013-0000011776-0000011776.tif']\n"
     ]
    }
   ],
   "source": [
    "my_path = \"/raid/Praveen_Stuff/Madison/NEW_Cultivated_2013/\"\n",
    "onlyfiles = [f for f in listdir(my_path)]\n",
    "print(onlyfiles)"
   ]
  },
  {
   "cell_type": "code",
   "execution_count": 12,
   "metadata": {},
   "outputs": [],
   "source": [
    "# '''\n",
    "# Numpy Crop 3D Array to Non-NaN Values\n",
    "# Crops value region based on labels\" ignoring nans\"\n",
    "# Input: image array with nans features*row_col\n",
    "# Output: image array with nans features*row*col\n",
    "# ''' \n",
    "# def crop_nparray(complete_image):\n",
    "    \n",
    "# #     print(\"lol\",complete_image.shape)\n",
    "#     lbl = complete_image[-1]\n",
    "# #     print(lbl)\n",
    "# #     (unique_2, counts_2) = np.unique(lbl, return_counts=True)    \n",
    "# #     print(unique_2, counts_2)\n",
    "#     nans = np.isnan(lbl)\n",
    "#     nancols = np.all(nans, axis=0) \n",
    "#     nanrows = np.all(nans, axis=1) \n",
    "\n",
    "#     firstcol = nancols.argmin() \n",
    "#     firstrow = nanrows.argmin() \n",
    "\n",
    "#     lastcol = len(nancols) - nancols[::-1].argmin() \n",
    "#     lastrow = len(nanrows) - nanrows[::-1].argmin() \n",
    "# #     print(\"first\", firstrow, firstcol)\n",
    "# #     print(\"last\", lastrow, lastcol)\n",
    "# #     print(lbl[firstrow:lastrow,firstcol:lastcol].shape)\n",
    "#     cropped_image = complete_image[:, firstrow:lastrow,firstcol:lastcol]\n",
    "# #         print(cropped_image.shape)\n",
    "#     return cropped_image"
   ]
  },
  {
   "cell_type": "code",
   "execution_count": 13,
   "metadata": {},
   "outputs": [],
   "source": [
    "'''\n",
    "Generate Image and Lables from tif using gdal\n",
    "Input: list of file path by year [[]]\n",
    "output: returns a pandas data frame in the format of a csv\n",
    "'''\n",
    "def generate_image_labels(list_files, mypath, BANDS):\n",
    "    df = pd.DataFrame()\n",
    "    yearly_image = []\n",
    "#     print(\"list_files\", list_files)\n",
    "    for file in list_files:\n",
    "        dtype='float32'\n",
    "        cropped_images = []\n",
    "        each_file=(os.path.join(mypath,file))\n",
    "        print(each_file)\n",
    "        dataset_bands = gdal.Open(each_file)\n",
    "        complete_image = np.array([dataset_bands.GetRasterBand(i).ReadAsArray() for i in range(1, dataset_bands.RasterCount + 1)]).astype(dtype)\n",
    "        df2 = pd.DataFrame()\n",
    "        for i in range(dataset_bands.RasterCount):\n",
    "            df2[BANDS[i]] = complete_image[i].ravel()\n",
    "\n",
    "        df2 = df2.drop(columns=['constant'])\n",
    "        df2 = df2.dropna()\n",
    "        df = pd.concat([df, df2])\n",
    "\n",
    "    return df"
   ]
  },
  {
   "cell_type": "code",
   "execution_count": 14,
   "metadata": {},
   "outputs": [
    {
     "name": "stdout",
     "output_type": "stream",
     "text": [
      "/raid/Praveen_Stuff/Madison/NEW_Cultivated_2013/complete_2013-0000017664-0000000000.tif\n",
      "/raid/Praveen_Stuff/Madison/NEW_Cultivated_2013/complete_2013-0000011776-0000005888-013.tif\n",
      "/raid/Praveen_Stuff/Madison/NEW_Cultivated_2013/complete_2013-0000017664-0000005888.tif\n",
      "/raid/Praveen_Stuff/Madison/NEW_Cultivated_2013/complete_2013-0000000000-0000000000-005.tif\n",
      "/raid/Praveen_Stuff/Madison/NEW_Cultivated_2013/complete_2013-0000005888-0000000000-007.tif\n",
      "/raid/Praveen_Stuff/Madison/NEW_Cultivated_2013/complete_2013-0000005888-0000011776.tif\n",
      "/raid/Praveen_Stuff/Madison/NEW_Cultivated_2013/complete_2013-0000000000-0000005888-017.tif\n",
      "/raid/Praveen_Stuff/Madison/NEW_Cultivated_2013/complete_2013-0000000000-0000011776.tif\n",
      "/raid/Praveen_Stuff/Madison/NEW_Cultivated_2013/complete_2013-0000011776-0000000000-016.tif\n",
      "/raid/Praveen_Stuff/Madison/NEW_Cultivated_2013/complete_2013-0000005888-0000005888-001.tif\n",
      "/raid/Praveen_Stuff/Madison/NEW_Cultivated_2013/complete_2013-0000017664-0000011776.tif\n",
      "/raid/Praveen_Stuff/Madison/NEW_Cultivated_2013/complete_2013-0000011776-0000011776.tif\n"
     ]
    }
   ],
   "source": [
    "yearly_df = generate_image_labels(onlyfiles, my_path, BANDS)"
   ]
  },
  {
   "cell_type": "code",
   "execution_count": 16,
   "metadata": {},
   "outputs": [
    {
     "data": {
      "text/html": [
       "<div>\n",
       "<style scoped>\n",
       "    .dataframe tbody tr th:only-of-type {\n",
       "        vertical-align: middle;\n",
       "    }\n",
       "\n",
       "    .dataframe tbody tr th {\n",
       "        vertical-align: top;\n",
       "    }\n",
       "\n",
       "    .dataframe thead th {\n",
       "        text-align: right;\n",
       "    }\n",
       "</style>\n",
       "<table border=\"1\" class=\"dataframe\">\n",
       "  <thead>\n",
       "    <tr style=\"text-align: right;\">\n",
       "      <th></th>\n",
       "      <th>BLUE</th>\n",
       "      <th>GREEN</th>\n",
       "      <th>RED</th>\n",
       "      <th>NIR</th>\n",
       "      <th>SWIR1</th>\n",
       "      <th>SWIR2</th>\n",
       "      <th>longitude</th>\n",
       "      <th>latitude</th>\n",
       "      <th>NDVI</th>\n",
       "      <th>EVI</th>\n",
       "      <th>...</th>\n",
       "      <th>NDVI_7</th>\n",
       "      <th>EVI_7</th>\n",
       "      <th>NDVI_8</th>\n",
       "      <th>EVI_8</th>\n",
       "      <th>NDVI_9</th>\n",
       "      <th>EVI_9</th>\n",
       "      <th>NDVI_10</th>\n",
       "      <th>EVI_10</th>\n",
       "      <th>cultivated</th>\n",
       "      <th>label</th>\n",
       "    </tr>\n",
       "  </thead>\n",
       "  <tbody>\n",
       "    <tr>\n",
       "      <th>1947</th>\n",
       "      <td>0.027067</td>\n",
       "      <td>0.058692</td>\n",
       "      <td>0.060452</td>\n",
       "      <td>0.164347</td>\n",
       "      <td>0.137287</td>\n",
       "      <td>0.081435</td>\n",
       "      <td>-87.948616</td>\n",
       "      <td>30.247667</td>\n",
       "      <td>0.5747</td>\n",
       "      <td>0.2903</td>\n",
       "      <td>...</td>\n",
       "      <td>0.8016</td>\n",
       "      <td>0.3294</td>\n",
       "      <td>0.5878</td>\n",
       "      <td>0.2674</td>\n",
       "      <td>0.7035</td>\n",
       "      <td>0.2802</td>\n",
       "      <td>0.638</td>\n",
       "      <td>0.3296</td>\n",
       "      <td>0.0</td>\n",
       "      <td>0.0</td>\n",
       "    </tr>\n",
       "    <tr>\n",
       "      <th>1948</th>\n",
       "      <td>0.025665</td>\n",
       "      <td>0.055585</td>\n",
       "      <td>0.056355</td>\n",
       "      <td>0.159782</td>\n",
       "      <td>0.128707</td>\n",
       "      <td>0.075165</td>\n",
       "      <td>-87.948341</td>\n",
       "      <td>30.247667</td>\n",
       "      <td>0.5747</td>\n",
       "      <td>0.2903</td>\n",
       "      <td>...</td>\n",
       "      <td>0.8016</td>\n",
       "      <td>0.3294</td>\n",
       "      <td>0.5878</td>\n",
       "      <td>0.2674</td>\n",
       "      <td>0.7035</td>\n",
       "      <td>0.2802</td>\n",
       "      <td>0.638</td>\n",
       "      <td>0.3296</td>\n",
       "      <td>0.0</td>\n",
       "      <td>0.0</td>\n",
       "    </tr>\n",
       "    <tr>\n",
       "      <th>1949</th>\n",
       "      <td>0.024593</td>\n",
       "      <td>0.056823</td>\n",
       "      <td>0.055942</td>\n",
       "      <td>0.170178</td>\n",
       "      <td>0.132722</td>\n",
       "      <td>0.075770</td>\n",
       "      <td>-87.948074</td>\n",
       "      <td>30.247667</td>\n",
       "      <td>0.5747</td>\n",
       "      <td>0.2903</td>\n",
       "      <td>...</td>\n",
       "      <td>0.8016</td>\n",
       "      <td>0.3294</td>\n",
       "      <td>0.5878</td>\n",
       "      <td>0.2674</td>\n",
       "      <td>0.7035</td>\n",
       "      <td>0.2802</td>\n",
       "      <td>0.638</td>\n",
       "      <td>0.3296</td>\n",
       "      <td>0.0</td>\n",
       "      <td>0.0</td>\n",
       "    </tr>\n",
       "    <tr>\n",
       "      <th>1950</th>\n",
       "      <td>0.025308</td>\n",
       "      <td>0.058252</td>\n",
       "      <td>0.055888</td>\n",
       "      <td>0.171717</td>\n",
       "      <td>0.134400</td>\n",
       "      <td>0.075165</td>\n",
       "      <td>-87.947807</td>\n",
       "      <td>30.247667</td>\n",
       "      <td>0.5747</td>\n",
       "      <td>0.2903</td>\n",
       "      <td>...</td>\n",
       "      <td>0.8016</td>\n",
       "      <td>0.3294</td>\n",
       "      <td>0.5878</td>\n",
       "      <td>0.2674</td>\n",
       "      <td>0.7035</td>\n",
       "      <td>0.2802</td>\n",
       "      <td>0.638</td>\n",
       "      <td>0.3296</td>\n",
       "      <td>0.0</td>\n",
       "      <td>0.0</td>\n",
       "    </tr>\n",
       "    <tr>\n",
       "      <th>1951</th>\n",
       "      <td>0.027040</td>\n",
       "      <td>0.059958</td>\n",
       "      <td>0.057125</td>\n",
       "      <td>0.168830</td>\n",
       "      <td>0.135830</td>\n",
       "      <td>0.076980</td>\n",
       "      <td>-87.947540</td>\n",
       "      <td>30.247667</td>\n",
       "      <td>0.5747</td>\n",
       "      <td>0.2903</td>\n",
       "      <td>...</td>\n",
       "      <td>0.8016</td>\n",
       "      <td>0.3294</td>\n",
       "      <td>0.5878</td>\n",
       "      <td>0.2674</td>\n",
       "      <td>0.7035</td>\n",
       "      <td>0.2802</td>\n",
       "      <td>0.638</td>\n",
       "      <td>0.3296</td>\n",
       "      <td>0.0</td>\n",
       "      <td>0.0</td>\n",
       "    </tr>\n",
       "  </tbody>\n",
       "</table>\n",
       "<p>5 rows × 32 columns</p>\n",
       "</div>"
      ],
      "text/plain": [
       "          BLUE     GREEN       RED       NIR     SWIR1     SWIR2  longitude  \\\n",
       "1947  0.027067  0.058692  0.060452  0.164347  0.137287  0.081435 -87.948616   \n",
       "1948  0.025665  0.055585  0.056355  0.159782  0.128707  0.075165 -87.948341   \n",
       "1949  0.024593  0.056823  0.055942  0.170178  0.132722  0.075770 -87.948074   \n",
       "1950  0.025308  0.058252  0.055888  0.171717  0.134400  0.075165 -87.947807   \n",
       "1951  0.027040  0.059958  0.057125  0.168830  0.135830  0.076980 -87.947540   \n",
       "\n",
       "       latitude    NDVI     EVI  ...  NDVI_7   EVI_7  NDVI_8   EVI_8  NDVI_9  \\\n",
       "1947  30.247667  0.5747  0.2903  ...  0.8016  0.3294  0.5878  0.2674  0.7035   \n",
       "1948  30.247667  0.5747  0.2903  ...  0.8016  0.3294  0.5878  0.2674  0.7035   \n",
       "1949  30.247667  0.5747  0.2903  ...  0.8016  0.3294  0.5878  0.2674  0.7035   \n",
       "1950  30.247667  0.5747  0.2903  ...  0.8016  0.3294  0.5878  0.2674  0.7035   \n",
       "1951  30.247667  0.5747  0.2903  ...  0.8016  0.3294  0.5878  0.2674  0.7035   \n",
       "\n",
       "       EVI_9  NDVI_10  EVI_10  cultivated  label  \n",
       "1947  0.2802    0.638  0.3296         0.0    0.0  \n",
       "1948  0.2802    0.638  0.3296         0.0    0.0  \n",
       "1949  0.2802    0.638  0.3296         0.0    0.0  \n",
       "1950  0.2802    0.638  0.3296         0.0    0.0  \n",
       "1951  0.2802    0.638  0.3296         0.0    0.0  \n",
       "\n",
       "[5 rows x 32 columns]"
      ]
     },
     "execution_count": 16,
     "metadata": {},
     "output_type": "execute_result"
    }
   ],
   "source": [
    "yearly_df.head()"
   ]
  },
  {
   "cell_type": "code",
   "execution_count": 17,
   "metadata": {},
   "outputs": [],
   "source": [
    "# Save that csv file which is the complete data\n",
    "yearly_df.to_csv(\"/raid/Praveen_Stuff/Madison/Cultivated_2013.csv\") "
   ]
  },
  {
   "cell_type": "code",
   "execution_count": 8,
   "metadata": {},
   "outputs": [
    {
     "name": "stdout",
     "output_type": "stream",
     "text": [
      "(175006525, 33)\n"
     ]
    }
   ],
   "source": [
    "path = \"/raid/Praveen_Stuff/Madison/CSV/Complete_2017.csv\"\n",
    "df = pd.read_csv(path)"
   ]
  },
  {
   "cell_type": "code",
   "execution_count": null,
   "metadata": {},
   "outputs": [],
   "source": [
    "'''\n",
    "Generate cultivated dataframe using pandas\n",
    "Input: Complete Dataframe for the specific year\n",
    "output: returns a pandas data frame in the format of a csv for cultivated region\n",
    "'''\n",
    "def create_cultivated_set(dataframe):\n",
    "    # Create a set based on where the cultivated column values is 1 use this set in training\n",
    "    # return that dataframe\n",
    "    df_new = dataframe[dataframe['cultivated'] == 1.0]\n",
    "    df_new = df_new.drop(columns=['cultivated'])\n",
    "    return df_new\n",
    "'''\n",
    "Generate cultivated dataframe using pandas\n",
    "Input: Complete Dataframe for the specific year\n",
    "output: returns a pandas data frame in the format of a csv for non-cultivated region\n",
    "'''\n",
    "def create_non_cultivated_set(dataframe):\n",
    "    # Create a set based on where the cultivated column values is 0, use this set in testing\n",
    "    # return that dataframe\n",
    "    df_new = dataframe[dataframe['cultivated'] == 0.0]\n",
    "    df_new = df_new.drop(columns=['cultivated'])\n",
    "    return df_new"
   ]
  },
  {
   "cell_type": "code",
   "execution_count": null,
   "metadata": {},
   "outputs": [],
   "source": [
    "cultivated_df = create_cultivated_set(df)\n",
    "non_cultivated_df = create_non_cultivated_set(df)"
   ]
  },
  {
   "cell_type": "code",
   "execution_count": null,
   "metadata": {},
   "outputs": [],
   "source": [
    "# Save Cultivated and non-cultivated df\n",
    "cultivated_df.to_csv(\"/raid/Praveen_Stuff/Madison/CSV/cultivated_2017.csv\") \n",
    "non_cultivated_df.to_csv(\"/raid/Praveen_Stuff/Madison/CSV/non_cultivated_2017.csv\") "
   ]
  }
 ],
 "metadata": {
  "kernelspec": {
   "display_name": "Praveen",
   "language": "python",
   "name": "praveen"
  },
  "language_info": {
   "codemirror_mode": {
    "name": "ipython",
    "version": 3
   },
   "file_extension": ".py",
   "mimetype": "text/x-python",
   "name": "python",
   "nbconvert_exporter": "python",
   "pygments_lexer": "ipython3",
   "version": "3.6.13"
  },
  "toc": {
   "nav_menu": {},
   "number_sections": true,
   "sideBar": true,
   "skip_h1_title": false,
   "title_cell": "Table of Contents",
   "title_sidebar": "Contents",
   "toc_cell": false,
   "toc_position": {},
   "toc_section_display": true,
   "toc_window_display": false
  }
 },
 "nbformat": 4,
 "nbformat_minor": 2
}
