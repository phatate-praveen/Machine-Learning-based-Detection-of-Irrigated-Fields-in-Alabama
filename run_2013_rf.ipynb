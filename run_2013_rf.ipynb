{
 "cells": [
  {
   "cell_type": "code",
   "execution_count": 1,
   "id": "233c004d",
   "metadata": {},
   "outputs": [],
   "source": [
    "# from PIL import Image\n",
    "# from osgeo import gdal,ogr, osr\n",
    "%config Completer.use_jedi = False\n",
    "import numpy as np\n",
    "import sklearn\n",
    "from sklearn.preprocessing import StandardScaler, Normalizer\n",
    "\n",
    "import os\n",
    "\n",
    "\n",
    "from sklearn.model_selection import train_test_split\n",
    "\n",
    "import imblearn\n",
    "from imblearn.over_sampling import SMOTE, ADASYN, RandomOverSampler \n",
    "from imblearn.under_sampling import RandomUnderSampler, NearMiss\n",
    "from sklearn.model_selection import cross_val_score\n",
    "from sklearn.model_selection import RepeatedStratifiedKFold\n",
    "from sklearn.ensemble import RandomForestClassifier\n",
    "from numpy import mean\n",
    "from numpy import std\n",
    "from sklearn import metrics\n",
    "from sklearn.metrics import classification_report, confusion_matrix, accuracy_score, ConfusionMatrixDisplay\n",
    "import pandas as pd\n",
    "import re\n",
    "import pickle\n",
    "from os import listdir\n",
    "from os.path import isfile, join\n",
    "import time"
   ]
  },
  {
   "cell_type": "code",
   "execution_count": 2,
   "id": "fa7232cc",
   "metadata": {},
   "outputs": [],
   "source": [
    "# Read cultivated data make a train test split and read non-cultivated test on it\n",
    "cultivated_path = \"/raid/Praveen_Stuff/Madison/CSV/cultivated_2013.csv\"\n",
    "# non_cultivated_path = \"/raid/Praveen_Stuff/Madison/CSV/non_cultivated_2013.csv\"\n",
    "cultivated_df = pd.read_csv(cultivated_path, memory_map=True)\n",
    "# non_cultivated_df = pd.read_csv(non_cultivated_path)"
   ]
  },
  {
   "cell_type": "code",
   "execution_count": 4,
   "id": "492d375b",
   "metadata": {},
   "outputs": [
    {
     "name": "stdout",
     "output_type": "stream",
     "text": [
      "(10057504, 28)\n"
     ]
    }
   ],
   "source": [
    "# Cultivated X and Y\n",
    "cultivated_X = cultivated_df.drop(columns=['longitude','latitude',\"Unnamed: 0.1\", \"Unnamed: 0\", 'label']).to_numpy()\n",
    "cultivated_Y = cultivated_df['label'].to_numpy()\n",
    "print(cultivated_X.shape)"
   ]
  },
  {
   "cell_type": "code",
   "execution_count": 5,
   "id": "237aedba",
   "metadata": {},
   "outputs": [
    {
     "name": "stdout",
     "output_type": "stream",
     "text": [
      "[0. 1.] [9622927  434577]\n"
     ]
    }
   ],
   "source": [
    "(unique_2, counts_2) = np.unique(cultivated_Y, return_counts=True)\n",
    "print(unique_2, counts_2)"
   ]
  },
  {
   "cell_type": "code",
   "execution_count": 6,
   "id": "c45ab6c5",
   "metadata": {},
   "outputs": [],
   "source": [
    "non_cultivated_path = \"/raid/Praveen_Stuff/Madison/CSV/non_cultivated_2013.csv\"\n",
    "non_cultivated_df = pd.read_csv(non_cultivated_path, memory_map=True)"
   ]
  },
  {
   "cell_type": "code",
   "execution_count": 7,
   "id": "ebcb9c52",
   "metadata": {},
   "outputs": [
    {
     "name": "stdout",
     "output_type": "stream",
     "text": [
      "(158665571, 28)\n"
     ]
    }
   ],
   "source": [
    "# Cultivated X and Y\n",
    "non_cultivated_X = non_cultivated_df.drop(columns=['longitude','latitude',\"Unnamed: 0.1\", \"Unnamed: 0\", 'label']).to_numpy()\n",
    "non_cultivated_Y = non_cultivated_df['label'].to_numpy()\n",
    "print(non_cultivated_X.shape)"
   ]
  },
  {
   "cell_type": "code",
   "execution_count": null,
   "id": "9909f977",
   "metadata": {},
   "outputs": [],
   "source": [
    "(unique_2, counts_2) = np.unique(non_cultivated_Y, return_counts=True)\n",
    "print(unique_2, counts_2)"
   ]
  },
  {
   "cell_type": "code",
   "execution_count": 10,
   "id": "5cbcbffc",
   "metadata": {},
   "outputs": [],
   "source": [
    "# filename = '/raid/Praveen_Stuff/Madison/Cultivated_models_reults/Normalizer_2013.sav'\n",
    "# # # pickle.dump(transformer, open(filename, 'wb'))\n",
    "# loaded_transformer = pickle.load(open(filename, 'rb'))"
   ]
  },
  {
   "cell_type": "code",
   "execution_count": 7,
   "id": "2e65fef3",
   "metadata": {},
   "outputs": [],
   "source": [
    "# transformer = Normalizer().fit(cultivated_X)\n",
    "# transformer = transformer.fit(non_cultivated_X)\n",
    "# complete_X = loaded_transformer.fit(complete_X)"
   ]
  },
  {
   "cell_type": "code",
   "execution_count": 14,
   "id": "8a3d7be8",
   "metadata": {},
   "outputs": [],
   "source": [
    "# cultivated_X = transformer.transform(cultivated_X)\n",
    "# non_cultivated_X = transformer.transform(non_cultivated_X)"
   ]
  },
  {
   "cell_type": "code",
   "execution_count": 8,
   "id": "8234893c",
   "metadata": {},
   "outputs": [],
   "source": [
    "X_train, X_test, y_train, y_test = train_test_split(\n",
    "                                      cultivated_X, cultivated_Y, random_state=42, test_size=0.3)"
   ]
  },
  {
   "cell_type": "code",
   "execution_count": 9,
   "id": "d93c784e",
   "metadata": {},
   "outputs": [
    {
     "name": "stdout",
     "output_type": "stream",
     "text": [
      "(7040252, 28)\n",
      "(3017252, 28)\n",
      "(7040252,)\n",
      "(3017252,)\n",
      "[0. 1.] [6735313  304939]\n",
      "[0. 1.] [2887614  129638]\n"
     ]
    }
   ],
   "source": [
    "print(X_train.shape)\n",
    "print(X_test.shape)\n",
    "print(y_train.shape)\n",
    "print(y_test.shape)\n",
    "(unique_2, counts_2) = np.unique(y_train, return_counts=True)    \n",
    "print(unique_2, counts_2)\n",
    "(unique_2, counts_2) = np.unique(y_test, return_counts=True)    \n",
    "print(unique_2, counts_2)"
   ]
  },
  {
   "cell_type": "code",
   "execution_count": 10,
   "id": "62c2c514",
   "metadata": {},
   "outputs": [],
   "source": [
    "oversampler = SMOTE()\n",
    "# undersampler = RandomUnderSampler()\n",
    "X_resampled, y_resampled = undersampler.fit_resample(X_train, y_train)"
   ]
  },
  {
   "cell_type": "code",
   "execution_count": 11,
   "id": "d4c28218",
   "metadata": {},
   "outputs": [],
   "source": [
    "model = RandomForestClassifier(n_estimators=20, criterion = 'entropy', random_state = 42)"
   ]
  },
  {
   "cell_type": "code",
   "execution_count": 12,
   "id": "d8c1e8f9",
   "metadata": {},
   "outputs": [
    {
     "data": {
      "text/plain": [
       "RandomForestClassifier(criterion='entropy', n_estimators=20, random_state=42)"
      ]
     },
     "execution_count": 12,
     "metadata": {},
     "output_type": "execute_result"
    }
   ],
   "source": [
    "model.fit(X_resampled, y_resampled)"
   ]
  },
  {
   "cell_type": "code",
   "execution_count": null,
   "id": "680ebfd8",
   "metadata": {},
   "outputs": [],
   "source": [
    "predict_train_y = model.predict(X_resampled)\n",
    "print('Mean Absolute Error:', metrics.mean_absolute_error(y_resampled, predict_train_y))\n",
    "print('Mean Squared Error:', metrics.mean_squared_error(y_resampled, predict_train_y))\n",
    "print('Root Mean Squared Error:', np.sqrt(metrics.mean_squared_error(y_resampled, predict_train_y)))\n",
    "print(classification_report(y_resampled,predict_train_y))\n",
    "print(\"Accuracy: \",accuracy_score(y_resampled, predict_train_y))\n",
    "cm = confusion_matrix(y_resampled,predict_train_y)\n",
    "disp = ConfusionMatrixDisplay(confusion_matrix=cm, display_labels=[1.0, 0.0])\n",
    "disp.plot()"
   ]
  },
  {
   "cell_type": "code",
   "execution_count": 13,
   "id": "fdab1400",
   "metadata": {},
   "outputs": [
    {
     "name": "stdout",
     "output_type": "stream",
     "text": [
      "Mean Absolute Error: 0.00045680183038902583\n",
      "Mean Squared Error: 0.00045680183038902583\n",
      "Root Mean Squared Error: 0.021372922832149695\n",
      "              precision    recall  f1-score   support\n",
      "\n",
      "         0.0       1.00      1.00      1.00   6735313\n",
      "         1.0       1.00      0.99      0.99    304939\n",
      "\n",
      "    accuracy                           1.00   7040252\n",
      "   macro avg       1.00      1.00      1.00   7040252\n",
      "weighted avg       1.00      1.00      1.00   7040252\n",
      "\n",
      "0.999543198169611\n"
     ]
    },
    {
     "data": {
      "text/plain": [
       "<sklearn.metrics._plot.confusion_matrix.ConfusionMatrixDisplay at 0x7f0668ed3b70>"
      ]
     },
     "execution_count": 13,
     "metadata": {},
     "output_type": "execute_result"
    },
    {
     "data": {
      "image/png": "[encoded data removed]",
      "text/plain": [
       "<Figure size 432x288 with 2 Axes>"
      ]
     },
     "metadata": {
      "needs_background": "light"
     },
     "output_type": "display_data"
    }
   ],
   "source": [
    "predict_train_y = model.predict(X_train)\n",
    "print('Mean Absolute Error:', metrics.mean_absolute_error(y_train, predict_train_y))\n",
    "print('Mean Squared Error:', metrics.mean_squared_error(y_train, predict_train_y))\n",
    "print('Root Mean Squared Error:', np.sqrt(metrics.mean_squared_error(y_train, predict_train_y)))\n",
    "print(classification_report(y_train,predict_train_y))\n",
    "print(accuracy_score(y_train, predict_train_y))\n",
    "cm = confusion_matrix(y_train,predict_train_y)\n",
    "disp = ConfusionMatrixDisplay(confusion_matrix=cm, display_labels=[1.0, 0.0])\n",
    "disp.plot()"
   ]
  },
  {
   "cell_type": "code",
   "execution_count": 14,
   "id": "4da748e2",
   "metadata": {},
   "outputs": [
    {
     "name": "stdout",
     "output_type": "stream",
     "text": [
      "Mean Absolute Error: 0.005917967740182126\n",
      "Mean Squared Error: 0.005917967740182126\n",
      "Root Mean Squared Error: 0.07692832859345201\n",
      "              precision    recall  f1-score   support\n",
      "\n",
      "         0.0       1.00      1.00      1.00   2887614\n",
      "         1.0       0.93      0.93      0.93    129638\n",
      "\n",
      "    accuracy                           0.99   3017252\n",
      "   macro avg       0.97      0.96      0.96   3017252\n",
      "weighted avg       0.99      0.99      0.99   3017252\n",
      "\n",
      "0.9940820322598178\n"
     ]
    },
    {
     "data": {
      "text/plain": [
       "<sklearn.metrics._plot.confusion_matrix.ConfusionMatrixDisplay at 0x7f067616f278>"
      ]
     },
     "execution_count": 14,
     "metadata": {},
     "output_type": "execute_result"
    },
    {
     "data": {
      "image/png": "[encoded data removed]",
      "text/plain": [
       "<Figure size 432x288 with 2 Axes>"
      ]
     },
     "metadata": {
      "needs_background": "light"
     },
     "output_type": "display_data"
    }
   ],
   "source": [
    "predict_test_y = model.predict(X_test)\n",
    "print('Mean Absolute Error:', metrics.mean_absolute_error(y_test, predict_test_y))\n",
    "print('Mean Squared Error:', metrics.mean_squared_error(y_test, predict_test_y))\n",
    "print('Root Mean Squared Error:', np.sqrt(metrics.mean_squared_error(y_test, predict_test_y)))\n",
    "print(classification_report(y_test,predict_test_y))\n",
    "print(accuracy_score(y_test, predict_test_y))\n",
    "cm = confusion_matrix(y_test, predict_test_y, labels = [1.0, 0.0])\n",
    "disp = ConfusionMatrixDisplay(confusion_matrix=cm, display_labels=[1.0, 0.0])\n",
    "disp.plot()"
   ]
  },
  {
   "cell_type": "code",
   "execution_count": 15,
   "id": "fa0dd910",
   "metadata": {},
   "outputs": [
    {
     "name": "stdout",
     "output_type": "stream",
     "text": [
      "Mean Absolute Error: 0.0002863129014926622\n",
      "Mean Squared Error: 0.0002863129014926622\n",
      "Root Mean Squared Error: 0.01692078312291314\n",
      "              precision    recall  f1-score   support\n",
      "\n",
      "         0.0       1.00      1.00      1.00 158607636\n",
      "         1.0       0.64      0.50      0.56     57935\n",
      "\n",
      "    accuracy                           1.00 158665571\n",
      "   macro avg       0.82      0.75      0.78 158665571\n",
      "weighted avg       1.00      1.00      1.00 158665571\n",
      "\n",
      "0.9997136870985074\n"
     ]
    },
    {
     "data": {
      "text/plain": [
       "<sklearn.metrics._plot.confusion_matrix.ConfusionMatrixDisplay at 0x7f0673e2acf8>"
      ]
     },
     "execution_count": 15,
     "metadata": {},
     "output_type": "execute_result"
    },
    {
     "data": {
      "image/png": "[encoded data removed]",
      "text/plain": [
       "<Figure size 432x288 with 2 Axes>"
      ]
     },
     "metadata": {
      "needs_background": "light"
     },
     "output_type": "display_data"
    }
   ],
   "source": [
    "predict_test_y = model.predict(non_cultivated_X)\n",
    "print('Mean Absolute Error:', metrics.mean_absolute_error(non_cultivated_Y, predict_test_y))\n",
    "print('Mean Squared Error:', metrics.mean_squared_error(non_cultivated_Y, predict_test_y))\n",
    "print('Root Mean Squared Error:', np.sqrt(metrics.mean_squared_error(non_cultivated_Y, predict_test_y)))\n",
    "print(classification_report(non_cultivated_Y,predict_test_y))\n",
    "print(accuracy_score(non_cultivated_Y, predict_test_y))\n",
    "cm = confusion_matrix(non_cultivated_Y, predict_test_y, labels = [1.0, 0.0])\n",
    "disp = ConfusionMatrixDisplay(confusion_matrix=cm, display_labels=[1.0, 0.0])\n",
    "disp.plot()"
   ]
  },
  {
   "cell_type": "code",
   "execution_count": 4,
   "id": "f22c8cca",
   "metadata": {},
   "outputs": [],
   "source": [
    "# Save the model\n",
    "filename = '/raid/Praveen_Stuff/Madison/Cultivated_models_reults/model_2013_70_Smote.sav'\n",
    "# pickle.dump(model, open(filename, 'wb'))\n",
    "loaded_model = pickle.load(open(filename, 'rb'))"
   ]
  },
  {
   "cell_type": "code",
   "execution_count": null,
   "id": "d946784d",
   "metadata": {},
   "outputs": [],
   "source": [
    "# Load Complete data of different year for example 2015 or 2017\n",
    "complete_path = \"/raid/Praveen_Stuff/Madison/CSV/Complete_2015.csv\"\n",
    "complete_df = pd.read_csv(complete_path, memory_map=True)"
   ]
  },
  {
   "cell_type": "code",
   "execution_count": null,
   "id": "ddc95116",
   "metadata": {},
   "outputs": [],
   "source": [
    "# Cultivated X and Y\n",
    "complete_X = complete_df.drop(columns=['longitude','latitude',\"cultivated\", \"Unnamed: 0\", 'label']).to_numpy()\n",
    "complete_Y = complete_df['label'].to_numpy()"
   ]
  },
  {
   "cell_type": "code",
   "execution_count": 5,
   "id": "a0c5f9e6",
   "metadata": {},
   "outputs": [
    {
     "name": "stdout",
     "output_type": "stream",
     "text": [
      "Mean Absolute Error: 0.0041092780287190775\n",
      "Mean Squared Error: 0.0041092780287190775\n",
      "Root Mean Squared Error: 0.06410365066608202\n",
      "              precision    recall  f1-score   support\n",
      "\n",
      "         0.0       1.00      1.00      1.00 172047441\n",
      "         1.0       0.46      0.03      0.05    706993\n",
      "\n",
      "    accuracy                           1.00 172754434\n",
      "   macro avg       0.73      0.51      0.52 172754434\n",
      "weighted avg       0.99      1.00      0.99 172754434\n",
      "\n",
      "0.9958907219712809\n"
     ]
    },
    {
     "data": {
      "text/plain": [
       "<sklearn.metrics._plot.confusion_matrix.ConfusionMatrixDisplay at 0x7f5cee7b1da0>"
      ]
     },
     "execution_count": 5,
     "metadata": {},
     "output_type": "execute_result"
    },
    {
     "data": {
      "image/png": "[encoded data removed]",
      "text/plain": [
       "<Figure size 432x288 with 2 Axes>"
      ]
     },
     "metadata": {
      "needs_background": "light"
     },
     "output_type": "display_data"
    }
   ],
   "source": [
    "predict_test_y = loaded_model.predict(complete_X)\n",
    "print('Mean Absolute Error:', metrics.mean_absolute_error(complete_Y, predict_test_y))\n",
    "print('Mean Squared Error:', metrics.mean_squared_error(complete_Y, predict_test_y))\n",
    "print('Root Mean Squared Error:', np.sqrt(metrics.mean_squared_error(complete_Y, predict_test_y)))\n",
    "print(classification_report(complete_Y,predict_test_y))\n",
    "print(accuracy_score(complete_Y, predict_test_y))\n",
    "cm = confusion_matrix(complete_Y, predict_test_y, labels = [1.0, 0.0])\n",
    "disp = ConfusionMatrixDisplay(confusion_matrix=cm, display_labels=[1.0, 0.0])\n",
    "disp.plot()"
   ]
  },
  {
   "cell_type": "code",
   "execution_count": 8,
   "id": "40b74e77",
   "metadata": {},
   "outputs": [
    {
     "name": "stderr",
     "output_type": "stream",
     "text": [
      "/home/CS/pvp0001/.conda/envs/Praveen/lib/python3.6/site-packages/ipykernel_launcher.py:2: SettingWithCopyWarning: \n",
      "A value is trying to be set on a copy of a slice from a DataFrame.\n",
      "Try using .loc[row_indexer,col_indexer] = value instead\n",
      "\n",
      "See the caveats in the documentation: https://pandas.pydata.org/pandas-docs/stable/user_guide/indexing.html#returning-a-view-versus-a-copy\n",
      "  \n"
     ]
    }
   ],
   "source": [
    "prediction_complete_2015_df = complete_df[['longitude','latitude']]\n",
    "prediction_complete_2015_df['Labels'] = predict_test_y\n",
    "# Select only where the labels are 1 as they represent irrigated\n",
    "new_df = prediction_complete_2015_df[prediction_complete_2015_df['Labels']==1.0]\n",
    "print(new_df.head)"
   ]
  },
  {
   "cell_type": "code",
   "execution_count": 10,
   "id": "3790fd0b",
   "metadata": {},
   "outputs": [],
   "source": [
    "new_df.to_csv(\"/raid/Praveen_Stuff/Madison/Cultivated_models_reults/prediction_complete_2015_model2013.csv\") "
   ]
  },
  {
   "cell_type": "code",
   "execution_count": null,
   "id": "6a21f1eb",
   "metadata": {},
   "outputs": [],
   "source": []
  }
 ],
 "metadata": {
  "kernelspec": {
   "display_name": "Praveen",
   "language": "python",
   "name": "praveen"
  },
  "language_info": {
   "codemirror_mode": {
    "name": "ipython",
    "version": 3
   },
   "file_extension": ".py",
   "mimetype": "text/x-python",
   "name": "python",
   "nbconvert_exporter": "python",
   "pygments_lexer": "ipython3",
   "version": "3.6.13"
  },
  "toc": {
   "nav_menu": {},
   "number_sections": true,
   "sideBar": true,
   "skip_h1_title": false,
   "title_cell": "Table of Contents",
   "title_sidebar": "Contents",
   "toc_cell": false,
   "toc_position": {},
   "toc_section_display": true,
   "toc_window_display": false
  }
 },
 "nbformat": 4,
 "nbformat_minor": 5
}
